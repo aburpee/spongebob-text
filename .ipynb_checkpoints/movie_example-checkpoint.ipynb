{
 "cells": [
  {
   "cell_type": "code",
   "execution_count": 44,
   "id": "da16a568-1b98-40c4-a67c-b25dd5f189f9",
   "metadata": {},
   "outputs": [],
   "source": [
    "import requests\n",
    "import json"
   ]
  },
  {
   "cell_type": "markdown",
   "id": "36549f3b-0983-4488-8afc-6bc42f762c3e",
   "metadata": {},
   "source": [
    "http://www.omdbapi.com/?i=tt3896198&apikey=c0204ad5"
   ]
  },
  {
   "cell_type": "code",
   "execution_count": 45,
   "id": "62e41aa3-c228-48f6-96f2-5ae67ac8ead1",
   "metadata": {},
   "outputs": [],
   "source": [
    "movie_title = 'royale'"
   ]
  },
  {
   "cell_type": "code",
   "execution_count": 57,
   "id": "428505e6-aa6f-4b7b-8b76-3d4b570979dd",
   "metadata": {},
   "outputs": [],
   "source": [
    "response = requests.get(f'http://www.omdbapi.com/?t={movie_title}&apikey=c0204ad5')"
   ]
  },
  {
   "cell_type": "code",
   "execution_count": 58,
   "id": "090f01e8-3ae1-404a-bcab-8e33b3775e8e",
   "metadata": {},
   "outputs": [],
   "source": [
    "imdb_id = response.json()['imdbID']"
   ]
  },
  {
   "cell_type": "code",
   "execution_count": 61,
   "id": "5101b0d6-7945-418f-9e9d-9b625d3aab78",
   "metadata": {},
   "outputs": [],
   "source": [
    "imdb_title = response.json()['Title']"
   ]
  },
  {
   "cell_type": "code",
   "execution_count": 62,
   "id": "8284aada-d819-4248-8e90-e88afb2adeea",
   "metadata": {},
   "outputs": [],
   "source": [
    "imdb_plot = response.json()['Plot']"
   ]
  },
  {
   "cell_type": "markdown",
   "id": "ca68e78c-22f4-4512-a441-71620d646e08",
   "metadata": {},
   "source": [
    "response.json()"
   ]
  },
  {
   "cell_type": "code",
   "execution_count": 48,
   "id": "592d69f9-a559-46ce-8c36-f1b73f96c7b5",
   "metadata": {
    "tags": []
   },
   "outputs": [],
   "source": [
    "url = \"https://streaming-availability.p.rapidapi.com/v2/get/basic\"\n",
    "\n",
    "querystring = {\"country\":\"us\",f\"imdb_id\":f\"{imdb_id}\",\"output_language\":\"en\"}\n",
    "\n",
    "headers = {\n",
    "\t\"X-RapidAPI-Key\": \"e145409a39mshf509ba14a206131p1acb3ejsnaeb0f27c7eb9\",\n",
    "\t\"X-RapidAPI-Host\": \"streaming-availability.p.rapidapi.com\"\n",
    "}\n",
    "\n",
    "response = requests.get(url, headers=headers, params=querystring)\n",
    "\n",
    "example_json = response.json()"
   ]
  },
  {
   "cell_type": "code",
   "execution_count": 49,
   "id": "ae954b4b-8a91-4710-8971-3efcca20fc7b",
   "metadata": {},
   "outputs": [],
   "source": [
    "streaming_info = example_json['result']['streamingInfo']['us']"
   ]
  },
  {
   "cell_type": "code",
   "execution_count": 50,
   "id": "d0a22960-dba7-4b82-8e50-3efb6230d542",
   "metadata": {},
   "outputs": [
    {
     "data": {
      "text/plain": [
       "'uhd'"
      ]
     },
     "execution_count": 50,
     "metadata": {},
     "output_type": "execute_result"
    }
   ],
   "source": [
    "streaming_info['apple'][0]['quality']"
   ]
  },
  {
   "cell_type": "code",
   "execution_count": 65,
   "id": "3353ca35-bf29-40bd-a484-4d8ab7e54e58",
   "metadata": {},
   "outputs": [
    {
     "name": "stdout",
     "output_type": "stream",
     "text": [
      "you can rent Casino Royale on apple in uhd \n",
      " here is your link: https://tv.apple.com/us/movie/casino-royale/umc.cmc.1atgrgw4dcsk9mel3zi94yv8d\n",
      "you can subscription Casino Royale on hbo in  \n",
      " here is your link: https://play.max.com/movie/f29607f0-3880-411a-ac3a-c53fcc6b0f79\n",
      "you can addon Casino Royale on hulu in hd \n",
      " here is your link: https://www.hulu.com/movie/casino-royale-71d49709-2591-4bae-aae2-534a4df583a6\n",
      "you can buy Casino Royale on prime in uhd \n",
      " here is your link: https://www.amazon.com/gp/video/detail/B0020M99LC/ref=atv_dp?language=en\n",
      " \n",
      " \n",
      " plot: After earning 00 status and a licence to kill, secret agent James Bond sets out on his first mission as 007. Bond must defeat a private banker funding terrorists in a high-stakes game of poker at Casino Royale, Montenegro.\n"
     ]
    }
   ],
   "source": [
    "\n",
    "\n",
    "for i in streaming_info:\n",
    "    quality = streaming_info[i][0]['quality']\n",
    "    type_of_stream = streaming_info[i][0]['type']\n",
    "    link = streaming_info[i][0]['link']\n",
    "    print(f'you can {type_of_stream} {imdb_title} on {i} in {quality} \\n here is your link: {link}' )\n",
    "\n",
    "    \n",
    "print(f' \\n \\n plot: {imdb_plot}')"
   ]
  },
  {
   "cell_type": "code",
   "execution_count": null,
   "id": "739364a9-79c2-45c7-9859-a343cf1e0da4",
   "metadata": {},
   "outputs": [],
   "source": []
  }
 ],
 "metadata": {
  "kernelspec": {
   "display_name": "Python 3 (ipykernel)",
   "language": "python",
   "name": "python3"
  },
  "language_info": {
   "codemirror_mode": {
    "name": "ipython",
    "version": 3
   },
   "file_extension": ".py",
   "mimetype": "text/x-python",
   "name": "python",
   "nbconvert_exporter": "python",
   "pygments_lexer": "ipython3",
   "version": "3.9.7"
  }
 },
 "nbformat": 4,
 "nbformat_minor": 5
}
