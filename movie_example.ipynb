{
 "cells": [
  {
   "cell_type": "code",
   "execution_count": 79,
   "id": "da16a568-1b98-40c4-a67c-b25dd5f189f9",
   "metadata": {},
   "outputs": [],
   "source": [
    "import requests\n",
    "import json"
   ]
  },
  {
   "cell_type": "markdown",
   "id": "36549f3b-0983-4488-8afc-6bc42f762c3e",
   "metadata": {},
   "source": [
    "http://www.omdbapi.com/?i=tt3896198&apikey=c0204ad5"
   ]
  },
  {
   "cell_type": "code",
   "execution_count": 80,
   "id": "62e41aa3-c228-48f6-96f2-5ae67ac8ead1",
   "metadata": {},
   "outputs": [],
   "source": [
    "movie_title = 'high school musical'"
   ]
  },
  {
   "cell_type": "code",
   "execution_count": 81,
   "id": "428505e6-aa6f-4b7b-8b76-3d4b570979dd",
   "metadata": {},
   "outputs": [],
   "source": [
    "response = requests.get(f'http://www.omdbapi.com/?t={movie_title}&apikey=c0204ad5')"
   ]
  },
  {
   "cell_type": "code",
   "execution_count": 82,
   "id": "366fed1b-0947-4e43-a29c-e9c324bde332",
   "metadata": {},
   "outputs": [
    {
     "data": {
      "text/plain": [
       "{'Title': 'High School Musical',\n",
       " 'Year': '2006',\n",
       " 'Rated': 'TV-G',\n",
       " 'Released': '20 Jan 2006',\n",
       " 'Runtime': '98 min',\n",
       " 'Genre': 'Comedy, Drama, Family',\n",
       " 'Director': 'Kenny Ortega',\n",
       " 'Writer': 'Peter Barsocchini',\n",
       " 'Actors': 'Zac Efron, Vanessa Hudgens, Ashley Tisdale',\n",
       " 'Plot': \"A popular high school athlete and an academically gifted girl get roles in the school musical and develop a friendship that threatens East High's social order.\",\n",
       " 'Language': 'English, Spanish',\n",
       " 'Country': 'United States',\n",
       " 'Awards': 'Won 2 Primetime Emmys. 10 wins & 19 nominations total',\n",
       " 'Poster': 'https://m.media-amazon.com/images/M/MV5BZmQ3MWEyNTYtOTY1OC00MTljLWI3OGUtMmU1ZDc2OTYxNDQ4L2ltYWdlL2ltYWdlXkEyXkFqcGdeQXVyMTczNjQwOTY@._V1_SX300.jpg',\n",
       " 'Ratings': [{'Source': 'Internet Movie Database', 'Value': '5.5/10'},\n",
       "  {'Source': 'Rotten Tomatoes', 'Value': '67%'}],\n",
       " 'Metascore': 'N/A',\n",
       " 'imdbRating': '5.5',\n",
       " 'imdbVotes': '92,116',\n",
       " 'imdbID': 'tt0475293',\n",
       " 'Type': 'movie',\n",
       " 'DVD': '23 May 2006',\n",
       " 'BoxOffice': 'N/A',\n",
       " 'Production': 'N/A',\n",
       " 'Website': 'N/A',\n",
       " 'Response': 'True'}"
      ]
     },
     "execution_count": 82,
     "metadata": {},
     "output_type": "execute_result"
    }
   ],
   "source": [
    "response.json()"
   ]
  },
  {
   "cell_type": "code",
   "execution_count": 83,
   "id": "090f01e8-3ae1-404a-bcab-8e33b3775e8e",
   "metadata": {},
   "outputs": [],
   "source": [
    "imdb_id = response.json()['imdbID']"
   ]
  },
  {
   "cell_type": "code",
   "execution_count": 84,
   "id": "5101b0d6-7945-418f-9e9d-9b625d3aab78",
   "metadata": {},
   "outputs": [],
   "source": [
    "imdb_title = response.json()['Title']"
   ]
  },
  {
   "cell_type": "code",
   "execution_count": 85,
   "id": "8284aada-d819-4248-8e90-e88afb2adeea",
   "metadata": {},
   "outputs": [],
   "source": [
    "imdb_plot = response.json()['Plot']"
   ]
  },
  {
   "cell_type": "markdown",
   "id": "ca68e78c-22f4-4512-a441-71620d646e08",
   "metadata": {},
   "source": [
    "response.json()"
   ]
  },
  {
   "cell_type": "code",
   "execution_count": 86,
   "id": "592d69f9-a559-46ce-8c36-f1b73f96c7b5",
   "metadata": {
    "tags": []
   },
   "outputs": [],
   "source": [
    "url = \"https://streaming-availability.p.rapidapi.com/v2/get/basic\"\n",
    "\n",
    "querystring = {\"country\":\"us\",f\"imdb_id\":f\"{imdb_id}\",\"output_language\":\"en\"}\n",
    "\n",
    "headers = {\n",
    "\t\"X-RapidAPI-Key\": \"e145409a39mshf509ba14a206131p1acb3ejsnaeb0f27c7eb9\",\n",
    "\t\"X-RapidAPI-Host\": \"streaming-availability.p.rapidapi.com\"\n",
    "}\n",
    "\n",
    "response = requests.get(url, headers=headers, params=querystring)\n",
    "\n",
    "example_json = response.json()"
   ]
  },
  {
   "cell_type": "code",
   "execution_count": 87,
   "id": "ae954b4b-8a91-4710-8971-3efcca20fc7b",
   "metadata": {},
   "outputs": [],
   "source": [
    "streaming_info = example_json['result']['streamingInfo']['us']"
   ]
  },
  {
   "cell_type": "code",
   "execution_count": 89,
   "id": "3353ca35-bf29-40bd-a484-4d8ab7e54e58",
   "metadata": {},
   "outputs": [
    {
     "name": "stdout",
     "output_type": "stream",
     "text": [
      "you can subscription High School Musical on disney in hd \n",
      " here is your link: https://www.disneyplus.com/movies/high-school-musical/1Wh1xI8luhe4\n",
      "you can rent High School Musical on prime in hd \n",
      " here is your link: https://www.amazon.com/gp/video/detail/B00ACAQG7Y/ref=atv_dp?language=en\n",
      " \n",
      " \n",
      " plot: A popular high school athlete and an academically gifted girl get roles in the school musical and develop a friendship that threatens East High's social order.\n"
     ]
    }
   ],
   "source": [
    "\n",
    "\n",
    "for i in streaming_info:\n",
    "    quality = streaming_info[i][0]['quality']\n",
    "    type_of_stream = streaming_info[i][0]['type']\n",
    "    link = streaming_info[i][0]['link']\n",
    "    print(f'you can {type_of_stream} {imdb_title} on {i} in {quality} \\n here is your link: {link}' )\n",
    "\n",
    "    \n",
    "print(f' \\n \\n plot: {imdb_plot}')"
   ]
  },
  {
   "cell_type": "code",
   "execution_count": 90,
   "id": "3a0c95f3-8e13-4906-9edc-cdf3b23811df",
   "metadata": {},
   "outputs": [
    {
     "name": "stdout",
     "output_type": "stream",
     "text": [
      "{\"message\":\"You are not subscribed to this API.\"}\n"
     ]
    }
   ],
   "source": [
    "import http.client\n",
    "\n",
    "conn = http.client.HTTPSConnection(\"findpornface-find-porn-face-v1.p.rapidapi.com\")\n",
    "\n",
    "headers = {\n",
    "    'X-RapidAPI-Key': \"e145409a39mshf509ba14a206131p1acb3ejsnaeb0f27c7eb9\",\n",
    "    'X-RapidAPI-Host': \"findpornface-find-porn-face-v1.p.rapidapi.com\"\n",
    "}\n",
    "\n",
    "conn.request(\"GET\", \"/actors?letter=%3CREQUIRED%3E&fields=photos%2Chair_color%2Ceyes_color%2Cheight%2Cweight%2Ccup_size%2Cbust_size%2Cwaist_size%2Chip_size%2Chas_fake_boobs%2Ctattoos%2Cpiercings%2Ccareer_start%2Ccareer_end%2Csocial_links%2Cadditional_info&filters=cup_size%5BC%5D%2Chair_color%5Bblack%5D\", headers=headers)\n",
    "\n",
    "res = conn.getresponse()\n",
    "data = res.read()\n",
    "\n",
    "print(data.decode(\"utf-8\"))"
   ]
  },
  {
   "cell_type": "code",
   "execution_count": null,
   "id": "b7836a12-9976-49ca-9b2a-ced230283a3c",
   "metadata": {},
   "outputs": [],
   "source": []
  }
 ],
 "metadata": {
  "kernelspec": {
   "display_name": "Python 3 (ipykernel)",
   "language": "python",
   "name": "python3"
  },
  "language_info": {
   "codemirror_mode": {
    "name": "ipython",
    "version": 3
   },
   "file_extension": ".py",
   "mimetype": "text/x-python",
   "name": "python",
   "nbconvert_exporter": "python",
   "pygments_lexer": "ipython3",
   "version": "3.9.7"
  }
 },
 "nbformat": 4,
 "nbformat_minor": 5
}
